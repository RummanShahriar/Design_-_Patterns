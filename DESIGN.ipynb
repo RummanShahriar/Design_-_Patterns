{
  "cells": [
    {
      "cell_type": "markdown",
      "source": [
        "How to fall in love \n",
        "1. Dig a hole\n",
        "2. Name it love\n",
        "3. Fall in it"
      ],
      "metadata": {
        "id": "OW02HLzd1Zfd"
      },
      "id": "OW02HLzd1Zfd"
    },
    {
      "cell_type": "code",
      "execution_count": null,
      "id": "4d8403f9",
      "metadata": {
        "id": "4d8403f9",
        "outputId": "f5684ea3-77fa-45a2-eb02-f5bd26c40880"
      },
      "outputs": [
        {
          "name": "stdout",
          "output_type": "stream",
          "text": [
            "********\n",
            "*      *\n",
            "*      *\n",
            "*      *\n",
            "*      *\n",
            "*      *\n",
            "*      *\n",
            "********\n"
          ]
        }
      ],
      "source": [
        "for i in range(0,8): # for rows\n",
        "    for j in range(0,8): #for columns\n",
        "        if i==0 or i ==7 or j ==0 or  j==7:\n",
        "            print('*',end = '')\n",
        "        else:\n",
        "            print(' ', end ='')\n",
        "    print()\n",
        "        "
      ]
    },
    {
      "cell_type": "markdown",
      "source": [
        "***5x5 matrix and void in middle***"
      ],
      "metadata": {
        "id": "8h0zu_830SAm"
      },
      "id": "8h0zu_830SAm"
    },
    {
      "cell_type": "code",
      "execution_count": null,
      "id": "926b7634",
      "metadata": {
        "colab": {
          "base_uri": "https://localhost:8080/"
        },
        "id": "926b7634",
        "outputId": "41db9501-43af-4f9a-9a5a-90748c4e0520"
      },
      "outputs": [
        {
          "output_type": "stream",
          "name": "stdout",
          "text": [
            "*****\n",
            "*****\n",
            "** **\n",
            "*****\n",
            "*****\n"
          ]
        }
      ],
      "source": [
        "for i in range(1,6):  #ROW\n",
        "  for j in range(1,6): #COLUMN\n",
        "    if j == 3 and i == 3 :\n",
        "      print(\" \",end=\"\")\n",
        "    else :  \n",
        "      print(\"*\",end=\"\")\n",
        "  print()  "
      ]
    },
    {
      "cell_type": "markdown",
      "source": [
        "**5x5** **matrix**"
      ],
      "metadata": {
        "id": "HRUbkMTGz5ZV"
      },
      "id": "HRUbkMTGz5ZV"
    },
    {
      "cell_type": "code",
      "source": [
        "for i in range(5):\n",
        "  for j in range(5):\n",
        "    print(\"*\",end=\"\")\n",
        "  print()  \n"
      ],
      "metadata": {
        "colab": {
          "base_uri": "https://localhost:8080/"
        },
        "id": "07KuNFSYy_XT",
        "outputId": "30a2eec1-2476-4f19-df18-891c8b727682"
      },
      "id": "07KuNFSYy_XT",
      "execution_count": null,
      "outputs": [
        {
          "output_type": "stream",
          "name": "stdout",
          "text": [
            "*****\n",
            "*****\n",
            "*****\n",
            "*****\n",
            "*****\n"
          ]
        }
      ]
    },
    {
      "cell_type": "code",
      "source": [
        "for i in range(1,6) :   \n",
        "  for j in range(1,i+1) :\n",
        "    print(j,end=\"\")\n",
        "  print()      \n"
      ],
      "metadata": {
        "colab": {
          "base_uri": "https://localhost:8080/"
        },
        "id": "gon5sIb2UJfB",
        "outputId": "0c3906a2-a60b-4a5f-95b9-df0705ce9f37"
      },
      "id": "gon5sIb2UJfB",
      "execution_count": null,
      "outputs": [
        {
          "output_type": "stream",
          "name": "stdout",
          "text": [
            "1\n",
            "12\n",
            "123\n",
            "1234\n",
            "12345\n"
          ]
        }
      ]
    },
    {
      "cell_type": "code",
      "source": [
        "for i in range(1,6) :\n",
        "  for j in range(1,6-i+1) :\n",
        "    print(j,end=\"\")\n",
        "  print()  "
      ],
      "metadata": {
        "colab": {
          "base_uri": "https://localhost:8080/"
        },
        "id": "IK6-aiMyU7wu",
        "outputId": "3f861764-407d-4fdd-feb7-9f7b144083cf"
      },
      "id": "IK6-aiMyU7wu",
      "execution_count": null,
      "outputs": [
        {
          "output_type": "stream",
          "name": "stdout",
          "text": [
            "12345\n",
            "1234\n",
            "123\n",
            "12\n",
            "1\n"
          ]
        }
      ]
    },
    {
      "cell_type": "code",
      "source": [
        "for i in range(1,8+1) :\n",
        "  for j in range(1,8+1) :\n",
        "    if i == 1 or i == 8 or j == 1 or j == 8 or i == 4 :\n",
        "      print(\"*\",end=\"\")\n",
        "    else :\n",
        "      print(\" \",end=\"\")  \n",
        "  print()  "
      ],
      "metadata": {
        "id": "jxGaSYHpVmNL",
        "colab": {
          "base_uri": "https://localhost:8080/"
        },
        "outputId": "d3f3f338-cabb-47a7-ece2-c3eb35bad7ac"
      },
      "id": "jxGaSYHpVmNL",
      "execution_count": null,
      "outputs": [
        {
          "output_type": "stream",
          "name": "stdout",
          "text": [
            "********\n",
            "*      *\n",
            "*      *\n",
            "********\n",
            "*      *\n",
            "*      *\n",
            "*      *\n",
            "********\n"
          ]
        }
      ]
    },
    {
      "cell_type": "markdown",
      "source": [
        "PROBLEM 1) Rectangle\n",
        "\n",
        "Sample Input: 4, 6\n",
        "\n",
        "Sample Output:\n",
        "\n",
        "123456\n",
        "\n",
        "123456\n",
        "\n",
        "123456\n",
        "\n",
        "123456\n",
        "\n",
        "Hint: 4 and 6 means 4 lines of numbers having 1..6 in each line"
      ],
      "metadata": {
        "id": "fwcLDeOYf9rY"
      },
      "id": "fwcLDeOYf9rY"
    },
    {
      "cell_type": "code",
      "source": [
        "row = int(input(\"Enter rows:\"))\n",
        "column = int(input(\"Enter column:\"))\n",
        "\n",
        "for i in range(row) :\n",
        "  for j in range(1,column+1) :\n",
        "    print(j,end=\"\")\n",
        "  print()  "
      ],
      "metadata": {
        "colab": {
          "base_uri": "https://localhost:8080/"
        },
        "id": "ffFD1n-qgExX",
        "outputId": "2d7416ff-eee7-49e0-c802-309856cfd4b3"
      },
      "id": "ffFD1n-qgExX",
      "execution_count": null,
      "outputs": [
        {
          "output_type": "stream",
          "name": "stdout",
          "text": [
            "Enter rows:9\n",
            "Enter column:9\n",
            "123456789\n",
            "123456789\n",
            "123456789\n",
            "123456789\n",
            "123456789\n",
            "123456789\n",
            "123456789\n",
            "123456789\n",
            "123456789\n"
          ]
        }
      ]
    },
    {
      "cell_type": "markdown",
      "source": [
        "PROBLEM 2) Triangle - Left Justified. Draw a right-angled triangle of a given height.\n",
        "\n",
        "Sample Input: 4\n",
        "\n",
        "Sample Output:\n",
        "#*\n",
        "#**\n",
        "#***\n",
        "#****"
      ],
      "metadata": {
        "id": "WPF0uksBn_Cm"
      },
      "id": "WPF0uksBn_Cm"
    },
    {
      "cell_type": "code",
      "source": [
        "row = int(input(\"Enter row number:\"))\n",
        "for i in range(1,row+1) :\n",
        "  for j in range(1,i+1) :\n",
        "    print(\"*\",end=\"\")\n",
        "  print()  "
      ],
      "metadata": {
        "colab": {
          "base_uri": "https://localhost:8080/"
        },
        "id": "8rpPGh2Log7g",
        "outputId": "c48f28ee-6054-4e00-d92a-1536f15764e1"
      },
      "id": "8rpPGh2Log7g",
      "execution_count": null,
      "outputs": [
        {
          "output_type": "stream",
          "name": "stdout",
          "text": [
            "Enter row number:10\n",
            "*\n",
            "**\n",
            "***\n",
            "****\n",
            "*****\n",
            "******\n",
            "*******\n",
            "********\n",
            "*********\n",
            "**********\n"
          ]
        }
      ]
    },
    {
      "cell_type": "markdown",
      "source": [
        "PROBLEM 3) Triangle - Left Justified. Draw a right-angled triangle of a given height.\n",
        "\n",
        "Sample Input: 4\n",
        "\n",
        "Sample Output :\n",
        "\n",
        "1\n",
        "\n",
        "12\n",
        "\n",
        "123\n",
        "\n",
        "1234\n"
      ],
      "metadata": {
        "id": "sW-crKsOsCzi"
      },
      "id": "sW-crKsOsCzi"
    },
    {
      "cell_type": "code",
      "source": [
        "row = int(input(\"Enter row number:\"))\n",
        "for i in range(1,row+1) :\n",
        "  for j in range(1,i+1) :\n",
        "    print(j,end=\"\")\n",
        "  print()  "
      ],
      "metadata": {
        "colab": {
          "base_uri": "https://localhost:8080/"
        },
        "id": "9GaMsp1zsH5r",
        "outputId": "7a6d02ac-525f-4423-f35f-575ab567cfeb"
      },
      "id": "9GaMsp1zsH5r",
      "execution_count": null,
      "outputs": [
        {
          "output_type": "stream",
          "name": "stdout",
          "text": [
            "Enter row number:9\n",
            "1\n",
            "12\n",
            "123\n",
            "1234\n",
            "12345\n",
            "123456\n",
            "1234567\n",
            "12345678\n",
            "123456789\n"
          ]
        }
      ]
    },
    {
      "cell_type": "code",
      "source": [
        "row = int(input(\"Enter row number:\"))\n",
        "for i in range(1,row+1) :\n",
        "  for space in range(1,row-i+1) :\n",
        "    print(\" \",end=\"\")\n",
        "  for star in range(1,i+1) :\n",
        "    print(\"*\",end=\"\")\n",
        "  print()    "
      ],
      "metadata": {
        "id": "5tEacAS4VlBP",
        "colab": {
          "base_uri": "https://localhost:8080/"
        },
        "outputId": "6c837e90-2c5c-4bba-9c63-578ae6a53209"
      },
      "id": "5tEacAS4VlBP",
      "execution_count": null,
      "outputs": [
        {
          "output_type": "stream",
          "name": "stdout",
          "text": [
            "Enter row number:10\n",
            "         *\n",
            "        **\n",
            "       ***\n",
            "      ****\n",
            "     *****\n",
            "    ******\n",
            "   *******\n",
            "  ********\n",
            " *********\n",
            "**********\n"
          ]
        }
      ]
    },
    {
      "cell_type": "code",
      "source": [
        "row = int(input(\"Enter row number:\"))\n",
        "for i in range(1,row+1) :\n",
        "  for space in range(1,row-i+1) :\n",
        "    print(\" \",end=\"\")\n",
        "  for num in range(1,i+1) :\n",
        "    print(num,end=\"\")\n",
        "  print()    "
      ],
      "metadata": {
        "colab": {
          "base_uri": "https://localhost:8080/"
        },
        "id": "F_O68W7VIvQq",
        "outputId": "96f6056b-2cdf-4507-8dcb-d323dfb64e4b"
      },
      "id": "F_O68W7VIvQq",
      "execution_count": null,
      "outputs": [
        {
          "output_type": "stream",
          "name": "stdout",
          "text": [
            "Enter row number:9\n",
            "        1\n",
            "       12\n",
            "      123\n",
            "     1234\n",
            "    12345\n",
            "   123456\n",
            "  1234567\n",
            " 12345678\n",
            "123456789\n"
          ]
        }
      ]
    },
    {
      "cell_type": "code",
      "source": [
        "row = int(input(\"Enter row number:\"))\n",
        "for i in range(1,row+1) :\n",
        "  for space in range(1,row-i+1) :\n",
        "    print(\" \",end=\"\")\n",
        "  for star in range(1,i+1) :\n",
        "    print(\"* \",end=\"\")\n",
        "  print()    "
      ],
      "metadata": {
        "colab": {
          "base_uri": "https://localhost:8080/"
        },
        "id": "B5KSYHF1Ilpf",
        "outputId": "5c97202d-07bf-4f8f-9318-51fcd5181b10"
      },
      "id": "B5KSYHF1Ilpf",
      "execution_count": null,
      "outputs": [
        {
          "output_type": "stream",
          "name": "stdout",
          "text": [
            "Enter row number:10\n",
            "         * \n",
            "        * * \n",
            "       * * * \n",
            "      * * * * \n",
            "     * * * * * \n",
            "    * * * * * * \n",
            "   * * * * * * * \n",
            "  * * * * * * * * \n",
            " * * * * * * * * * \n",
            "* * * * * * * * * * \n"
          ]
        }
      ]
    },
    {
      "cell_type": "code",
      "source": [
        "row = int(input(\"Enter row number:\"))\n",
        "for i in range(1,row+1) :\n",
        "  for space in range(1,row-i+1) :\n",
        "    print(\" \",end=\"\")\n",
        "  for star in range(1,2*i) :\n",
        "    print(\"*\",end=\"\")\n",
        "  print()    "
      ],
      "metadata": {
        "colab": {
          "base_uri": "https://localhost:8080/"
        },
        "id": "PeplTWTrjWmN",
        "outputId": "6293f8c3-0011-4bc3-e1af-b74961dbb9c7"
      },
      "id": "PeplTWTrjWmN",
      "execution_count": null,
      "outputs": [
        {
          "output_type": "stream",
          "name": "stdout",
          "text": [
            "Enter row number:10\n",
            "         *\n",
            "        ***\n",
            "       *****\n",
            "      *******\n",
            "     *********\n",
            "    ***********\n",
            "   *************\n",
            "  ***************\n",
            " *****************\n",
            "*******************\n"
          ]
        }
      ]
    },
    {
      "cell_type": "code",
      "source": [
        "row = int(input(\"Enter row number:\"))\n",
        "for i in range(1,row+1) :\n",
        "  for space in range(1,row-i+1) :\n",
        "    print(\" \",end=\"\")\n",
        "  for num in range(1,i*2) :\n",
        "    print(num,end=\"\")\n",
        "  print()    "
      ],
      "metadata": {
        "colab": {
          "base_uri": "https://localhost:8080/"
        },
        "id": "gy_W7Fthm3AS",
        "outputId": "314beebc-296c-4c58-b3eb-08e6a43d2b19"
      },
      "id": "gy_W7Fthm3AS",
      "execution_count": null,
      "outputs": [
        {
          "output_type": "stream",
          "name": "stdout",
          "text": [
            "Enter row number:4\n",
            "   1\n",
            "  123\n",
            " 12345\n",
            "1234567\n"
          ]
        }
      ]
    },
    {
      "cell_type": "code",
      "source": [
        "row = int(input(\"Enter row number:\"))\n",
        "for i in range(1,row+1) :\n",
        "  for space in range(1,row-i+1) :\n",
        "    print(\" \",end=\"\")\n",
        "  for star in range(1,2*i) :\n",
        "    print(\"*\",end=\"\")\n",
        "  print()\n",
        "for i in range(1,row) :\n",
        "  for space in  range(1,i+1) :\n",
        "    print(\" \",end=\"\")     \n",
        "  for star in range(1,2*(row-i)) :\n",
        "    print(\"*\",end=\"\")     \n",
        "  print()               "
      ],
      "metadata": {
        "id": "AXrFrXIbv1wV",
        "colab": {
          "base_uri": "https://localhost:8080/"
        },
        "outputId": "61dbcacd-f660-4c81-c1f2-90bf9900f048"
      },
      "id": "AXrFrXIbv1wV",
      "execution_count": null,
      "outputs": [
        {
          "output_type": "stream",
          "name": "stdout",
          "text": [
            "Enter row number:10\n",
            "         *\n",
            "        ***\n",
            "       *****\n",
            "      *******\n",
            "     *********\n",
            "    ***********\n",
            "   *************\n",
            "  ***************\n",
            " *****************\n",
            "*******************\n",
            " *****************\n",
            "  ***************\n",
            "   *************\n",
            "    ***********\n",
            "     *********\n",
            "      *******\n",
            "       *****\n",
            "        ***\n",
            "         *\n"
          ]
        }
      ]
    },
    {
      "cell_type": "code",
      "source": [
        "row = int(input(\"Enter row number:\"))\n",
        "for i in range(1,row+1) :\n",
        "  for space in  range(1,row-i+1) :\n",
        "    print(\" \",end=\"\")\n",
        "  for num in range(1,2*i) :\n",
        "    print(num,end=\"\")  \n",
        "  print()\n",
        "for i in range(1,row) :\n",
        "  for space in range(1,i+1) :\n",
        "    print(\" \",end=\"\")   \n",
        "  for num in range(1,2*(row-i)) :\n",
        "    print(num,end=\"\") \n",
        "  print()  "
      ],
      "metadata": {
        "colab": {
          "base_uri": "https://localhost:8080/"
        },
        "id": "4kzMVCd7ZmOK",
        "outputId": "5494caef-a13e-48da-c40a-829bae82e337"
      },
      "id": "4kzMVCd7ZmOK",
      "execution_count": null,
      "outputs": [
        {
          "output_type": "stream",
          "name": "stdout",
          "text": [
            "Enter row number:4\n",
            "   1\n",
            "  123\n",
            " 12345\n",
            "1234567\n",
            " 12345\n",
            "  123\n",
            "   1\n"
          ]
        }
      ]
    },
    {
      "cell_type": "code",
      "source": [
        "row = int(input(\"Enter row number:\"))\n",
        "col = int(input(\"Enter column number:\"))\n",
        "for i in range(1,row+1) :\n",
        "  for j in range(1,col+1) :\n",
        "    if i == 1 or i == row or j == 1 or j == col :\n",
        "      print(\"*\",end=\"\")\n",
        "    else :\n",
        "      print(\" \",end=\"\")  \n",
        "  print()    "
      ],
      "metadata": {
        "colab": {
          "base_uri": "https://localhost:8080/"
        },
        "id": "ggMXlqgQbibQ",
        "outputId": "771c0c47-39d5-4e66-9ed9-c9c0055a82af"
      },
      "id": "ggMXlqgQbibQ",
      "execution_count": null,
      "outputs": [
        {
          "output_type": "stream",
          "name": "stdout",
          "text": [
            "Enter row number:6\n",
            "Enter column number:8\n",
            "********\n",
            "*      *\n",
            "*      *\n",
            "*      *\n",
            "*      *\n",
            "********\n"
          ]
        }
      ]
    },
    {
      "cell_type": "code",
      "source": [
        "row = int(input(\"Enter row number:\"))\n",
        "col = int(input(\"Enter column number:\"))\n",
        "for i in range(1,row+1) :\n",
        "  for j in range(1,col+1) :\n",
        "    if i == 1 or i == row or j == 1 or j == col :\n",
        "      print(j,end=\"\")\n",
        "    else :\n",
        "      print(\" \",end=\"\")  \n",
        "  print()    "
      ],
      "metadata": {
        "colab": {
          "base_uri": "https://localhost:8080/"
        },
        "id": "BkI5xCLoqnEE",
        "outputId": "f3d100b5-749f-4f0b-f0ae-25d4ea1ced3d"
      },
      "id": "BkI5xCLoqnEE",
      "execution_count": null,
      "outputs": [
        {
          "output_type": "stream",
          "name": "stdout",
          "text": [
            "Enter row number:6\n",
            "Enter column number:8\n",
            "12345678\n",
            "1      8\n",
            "1      8\n",
            "1      8\n",
            "1      8\n",
            "12345678\n"
          ]
        }
      ]
    },
    {
      "cell_type": "code",
      "source": [
        "row = int(input(\"Enter row number:\"))\n",
        "for i in range(1,row+1) :\n",
        "\n",
        "  for j in range(1,row+1) :\n",
        "\n",
        "    if j == 1 or i == row or i == j :\n",
        "      print(\"*\",end=\"\")\n",
        "    else :\n",
        "      print(\" \",end=\"\")  \n",
        "  print()    "
      ],
      "metadata": {
        "colab": {
          "base_uri": "https://localhost:8080/"
        },
        "id": "u2WlB0ktrBqA",
        "outputId": "84ce279b-8a12-43b1-88b5-64f0da3515c6"
      },
      "id": "u2WlB0ktrBqA",
      "execution_count": null,
      "outputs": [
        {
          "output_type": "stream",
          "name": "stdout",
          "text": [
            "Enter row number:6\n",
            "*     \n",
            "**    \n",
            "* *   \n",
            "*  *  \n",
            "*   * \n",
            "******\n"
          ]
        }
      ]
    },
    {
      "cell_type": "code",
      "source": [
        "row = int(input(\"Enter row number:\"))\n",
        "for i in range(1,row+1) :\n",
        "  for j in range(1,i+1) :\n",
        "    if i == row or j == 1 or j == i :\n",
        "      print(\"*\",end=\"\")\n",
        "    else :\n",
        "      print(\" \",end=\"\")  \n",
        "  print() "
      ],
      "metadata": {
        "colab": {
          "base_uri": "https://localhost:8080/"
        },
        "id": "1nHl3LlMvx0Y",
        "outputId": "49eb88df-72a0-4063-fc46-e662037dfc67"
      },
      "id": "1nHl3LlMvx0Y",
      "execution_count": null,
      "outputs": [
        {
          "output_type": "stream",
          "name": "stdout",
          "text": [
            "Enter row number:8\n",
            "*\n",
            "**\n",
            "* *\n",
            "*  *\n",
            "*   *\n",
            "*    *\n",
            "*     *\n",
            "********\n"
          ]
        }
      ]
    },
    {
      "cell_type": "code",
      "source": [
        "row = int(input(\"Enter row number:\"))\n",
        "for i in range(1,row+1) :\n",
        "  for j in range(1,i+1) :\n",
        "    if i == row or j == 1 or j == i :\n",
        "      print(j,end=\"\")\n",
        "    else :\n",
        "      print(\" \",end=\"\")  \n",
        "  print() "
      ],
      "metadata": {
        "colab": {
          "base_uri": "https://localhost:8080/"
        },
        "id": "qkMo2bcdwgK5",
        "outputId": "c7f757c5-4189-4066-9d42-31ad3be1474f"
      },
      "id": "qkMo2bcdwgK5",
      "execution_count": null,
      "outputs": [
        {
          "output_type": "stream",
          "name": "stdout",
          "text": [
            "Enter row number:8\n",
            "1\n",
            "12\n",
            "1 3\n",
            "1  4\n",
            "1   5\n",
            "1    6\n",
            "1     7\n",
            "12345678\n"
          ]
        }
      ]
    },
    {
      "cell_type": "code",
      "source": [
        "row = int(input(\"Enter row number:\"))\n",
        "for i in range(1,row+1) :\n",
        "  for space in range(1,row-i+1) :\n",
        "    print(\" \",end=\"\")\n",
        "  for star in range(1,i+1) :\n",
        "    if i == row or star == i or "
      ],
      "metadata": {
        "id": "V72YmnjA1OiY"
      },
      "id": "V72YmnjA1OiY",
      "execution_count": null,
      "outputs": []
    }
  ],
  "metadata": {
    "kernelspec": {
      "display_name": "Python 3 (ipykernel)",
      "language": "python",
      "name": "python3"
    },
    "language_info": {
      "codemirror_mode": {
        "name": "ipython",
        "version": 3
      },
      "file_extension": ".py",
      "mimetype": "text/x-python",
      "name": "python",
      "nbconvert_exporter": "python",
      "pygments_lexer": "ipython3",
      "version": "3.9.7"
    },
    "colab": {
      "name": "DESIGN.ipynb",
      "provenance": [],
      "collapsed_sections": []
    }
  },
  "nbformat": 4,
  "nbformat_minor": 5
}